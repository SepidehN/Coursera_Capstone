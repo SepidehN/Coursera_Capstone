{
 "cells": [
  {
   "cell_type": "markdown",
   "metadata": {},
   "source": [
    "# The Battle of Neighborhoods"
   ]
  },
  {
   "cell_type": "code",
   "execution_count": null,
   "metadata": {},
   "outputs": [],
   "source": []
  },
  {
   "cell_type": "markdown",
   "metadata": {},
   "source": [
    "## Introduction"
   ]
  },
  {
   "cell_type": "markdown",
   "metadata": {},
   "source": [
    "### Background"
   ]
  },
  {
   "cell_type": "markdown",
   "metadata": {},
   "source": [
    "Buying a house has always been a great adventure, especially when it is the first home. However, at the same time, it can be very challenging too. Finding a proper location to buy a house is not a straightforward task. Many factors need to be considered to analyse and compare different locations suitability. For example, closeness to the workplace, kids' schools or leisure centres, safety and accessibility to hospitals, public transport or motorways can be critical factors. The list is not exhaustive. The problem gets more challenging than ever if you are new to the area and you have no idea about the different parts of the city. Suppose that you have moved to a new country and you picked a city in which to live.  If you want to pick an area in that city to buy a house, where should it be?\n",
    "\n"
   ]
  },
  {
   "cell_type": "markdown",
   "metadata": {},
   "source": [
    "### Problem definition"
   ]
  },
  {
   "cell_type": "markdown",
   "metadata": {},
   "source": [
    "It is not far away from the mind that people want to live in an area that has the best access to supermarkets, shops, bars and restaurants. But how safe these areas are? In this study, we examine and analyse different neighbourhoods in a particular county in the UK. \n",
    "Considering different types of venues and crimes, is there any correlation between the numbers/types of venues and the numbers/types of crimes that have been committed in different area in this county during the last 6 months."
   ]
  },
  {
   "cell_type": "markdown",
   "metadata": {},
   "source": [
    "### Interest\n"
   ]
  },
  {
   "cell_type": "markdown",
   "metadata": {},
   "source": [
    "This study can be beneficial to people who are willing to buy a house and need to consider a trade-off between the popularity and safeness of an area. Moreover, Police can use this study to gain insight into the correlation between the venues, and the number/different types of crimes have been committed in a particular area."
   ]
  },
  {
   "cell_type": "markdown",
   "metadata": {},
   "source": [
    "# Data acquisition"
   ]
  },
  {
   "cell_type": "markdown",
   "metadata": {},
   "source": [
    "### Data source"
   ]
  },
  {
   "cell_type": "markdown",
   "metadata": {},
   "source": [
    "We focus on Surrey county, UK area and explore different boroughs and wards in this county. The data set which includes information related to the numbers and categories of crime that have been committed in each borough and ward can be found on [Surrey-i website](https://www.surreyi.gov.uk/) via this [link. The data set lacks the geographical coordination of each ward. So, we use the Geocoder Python package to get the latitude and the longitude coordinates of each ward."
   ]
  },
  {
   "cell_type": "code",
   "execution_count": null,
   "metadata": {},
   "outputs": [],
   "source": []
  }
 ],
 "metadata": {
  "kernelspec": {
   "display_name": "Python",
   "language": "python",
   "name": "conda-env-python-py"
  },
  "language_info": {
   "codemirror_mode": {
    "name": "ipython",
    "version": 3
   },
   "file_extension": ".py",
   "mimetype": "text/x-python",
   "name": "python",
   "nbconvert_exporter": "python",
   "pygments_lexer": "ipython3",
   "version": "3.6.7"
  }
 },
 "nbformat": 4,
 "nbformat_minor": 4
}
