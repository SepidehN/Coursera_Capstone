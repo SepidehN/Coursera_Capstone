{
 "cells": [
  {
   "cell_type": "markdown",
   "metadata": {},
   "source": [
    "# The Battle of Neighbourhoods (Crimes Correlations)"
   ]
  },
  {
   "cell_type": "markdown",
   "metadata": {},
   "source": [
    "### Problem definition"
   ]
  },
  {
   "cell_type": "markdown",
   "metadata": {},
   "source": [
    "This Notebook examines and analyses correlations among different categories of crime in Surrey County."
   ]
  },
  {
   "cell_type": "markdown",
   "metadata": {},
   "source": [
    "#### Importing necessary Libraries"
   ]
  },
  {
   "cell_type": "code",
   "execution_count": 1,
   "metadata": {},
   "outputs": [],
   "source": [
    "# Import necessary Libraries\n",
    "\n",
    "import pandas as pd # library for data analsysis\n",
    "import numpy as np # library to handle data in a vectorized manner\n",
    "import random # library for random number generation\n",
    "import seaborn as sns\n",
    "import matplotlib.pyplot as plt\n",
    "import pylab as pl\n",
    "%matplotlib inline\n",
    "\n",
    "# libraries for displaying images\n",
    "from IPython.display import Image \n",
    "from IPython.core.display import HTML \n"
   ]
  },
  {
   "cell_type": "markdown",
   "metadata": {},
   "source": [
    "# Data acquisition"
   ]
  },
  {
   "cell_type": "code",
   "execution_count": 2,
   "metadata": {},
   "outputs": [
    {
     "name": "stdout",
     "output_type": "stream",
     "text": [
      "Collecting xlrd\n",
      "\u001b[?25l  Downloading https://files.pythonhosted.org/packages/b0/16/63576a1a001752e34bf8ea62e367997530dc553b689356b9879339cf45a4/xlrd-1.2.0-py2.py3-none-any.whl (103kB)\n",
      "\u001b[K     |████████████████████████████████| 112kB 18.5MB/s eta 0:00:01\n",
      "\u001b[?25hInstalling collected packages: xlrd\n",
      "Successfully installed xlrd-1.2.0\n",
      "Note: you may need to restart the kernel to use updated packages.\n"
     ]
    }
   ],
   "source": [
    "pip install xlrd"
   ]
  },
  {
   "cell_type": "markdown",
   "metadata": {},
   "source": [
    "### Data source"
   ]
  },
  {
   "cell_type": "markdown",
   "metadata": {},
   "source": [
    "The data set which includes information related to the numbers and categories of crime that have been committed in each borough and ward can be found on [Surrey-i website](https://www.surreyi.gov.uk/) via this [link](https://www.surreyi.gov.uk/dataset?q=Master%20Crime%20Category%20by%20Ward%20). "
   ]
  },
  {
   "cell_type": "markdown",
   "metadata": {},
   "source": [
    "### Downloading and reading Data into a DataFrame"
   ]
  },
  {
   "cell_type": "code",
   "execution_count": 24,
   "metadata": {},
   "outputs": [],
   "source": [
    "#!wget -O Master_Crime_Category_by_Ward.xls https://www.surreyi.gov.uk/download/surrey-crime-by-category-ward/83d9ce81-d251-46a1-ad36-79e70320aeb2/Master%20Crime%20Category%20by%20Ward.xls\n",
    "#df = pd.read_excel('Master_Crime_Category_by_Ward.xls')\n"
   ]
  },
  {
   "cell_type": "markdown",
   "metadata": {},
   "source": [
    "#### or"
   ]
  },
  {
   "cell_type": "markdown",
   "metadata": {},
   "source": [
    "In the following, I read data containing crime records by their categories for all Wadrs in surrey county from the specified link."
   ]
  },
  {
   "cell_type": "code",
   "execution_count": 3,
   "metadata": {},
   "outputs": [
    {
     "data": {
      "text/html": [
       "<div>\n",
       "<style scoped>\n",
       "    .dataframe tbody tr th:only-of-type {\n",
       "        vertical-align: middle;\n",
       "    }\n",
       "\n",
       "    .dataframe tbody tr th {\n",
       "        vertical-align: top;\n",
       "    }\n",
       "\n",
       "    .dataframe thead th {\n",
       "        text-align: right;\n",
       "    }\n",
       "</style>\n",
       "<table border=\"1\" class=\"dataframe\">\n",
       "  <thead>\n",
       "    <tr style=\"text-align: right;\">\n",
       "      <th></th>\n",
       "      <th>Month</th>\n",
       "      <th>Geocode</th>\n",
       "      <th>Borough</th>\n",
       "      <th>Ward</th>\n",
       "      <th>ROBBERY</th>\n",
       "      <th>DOMESTIC_BURGLARY</th>\n",
       "      <th>VEHICLE_CRIME</th>\n",
       "      <th>VIOLENCE_WITH_INJURY</th>\n",
       "      <th>TNO</th>\n",
       "      <th>VIOLENCE_WITHOUT_INJURY</th>\n",
       "      <th>NON_DOMESTIC_BURGLARY</th>\n",
       "      <th>THEFT_HANDLING</th>\n",
       "      <th>CRIMINAL_DAMAGE</th>\n",
       "      <th>DRUG_OFFENCES</th>\n",
       "      <th>FRAUD_FORGERY</th>\n",
       "      <th>VEHICLE_INTERFERENCE</th>\n",
       "      <th>OTHER_OFFENCES</th>\n",
       "    </tr>\n",
       "  </thead>\n",
       "  <tbody>\n",
       "    <tr>\n",
       "      <th>0</th>\n",
       "      <td>2018-04-01</td>\n",
       "      <td>E10000030</td>\n",
       "      <td>Surrey total</td>\n",
       "      <td>Surrey total</td>\n",
       "      <td>36</td>\n",
       "      <td>301</td>\n",
       "      <td>437</td>\n",
       "      <td>489</td>\n",
       "      <td>5692</td>\n",
       "      <td>1738</td>\n",
       "      <td>131</td>\n",
       "      <td>1224</td>\n",
       "      <td>722</td>\n",
       "      <td>202</td>\n",
       "      <td>15</td>\n",
       "      <td>87</td>\n",
       "      <td>178</td>\n",
       "    </tr>\n",
       "    <tr>\n",
       "      <th>1</th>\n",
       "      <td>2018-04-01</td>\n",
       "      <td>E07000207</td>\n",
       "      <td>Elmbridge</td>\n",
       "      <td>Borough total</td>\n",
       "      <td>3</td>\n",
       "      <td>54</td>\n",
       "      <td>51</td>\n",
       "      <td>49</td>\n",
       "      <td>638</td>\n",
       "      <td>195</td>\n",
       "      <td>13</td>\n",
       "      <td>143</td>\n",
       "      <td>73</td>\n",
       "      <td>15</td>\n",
       "      <td>1</td>\n",
       "      <td>12</td>\n",
       "      <td>22</td>\n",
       "    </tr>\n",
       "    <tr>\n",
       "      <th>2</th>\n",
       "      <td>2018-04-01</td>\n",
       "      <td>E07000208</td>\n",
       "      <td>Epsom &amp; Ewell</td>\n",
       "      <td>Borough total</td>\n",
       "      <td>4</td>\n",
       "      <td>18</td>\n",
       "      <td>76</td>\n",
       "      <td>35</td>\n",
       "      <td>477</td>\n",
       "      <td>130</td>\n",
       "      <td>8</td>\n",
       "      <td>90</td>\n",
       "      <td>46</td>\n",
       "      <td>16</td>\n",
       "      <td>1</td>\n",
       "      <td>31</td>\n",
       "      <td>10</td>\n",
       "    </tr>\n",
       "    <tr>\n",
       "      <th>3</th>\n",
       "      <td>2018-04-01</td>\n",
       "      <td>E07000209</td>\n",
       "      <td>Guildford</td>\n",
       "      <td>Borough total</td>\n",
       "      <td>4</td>\n",
       "      <td>36</td>\n",
       "      <td>22</td>\n",
       "      <td>64</td>\n",
       "      <td>709</td>\n",
       "      <td>206</td>\n",
       "      <td>17</td>\n",
       "      <td>207</td>\n",
       "      <td>78</td>\n",
       "      <td>27</td>\n",
       "      <td>4</td>\n",
       "      <td>1</td>\n",
       "      <td>20</td>\n",
       "    </tr>\n",
       "    <tr>\n",
       "      <th>4</th>\n",
       "      <td>2018-04-01</td>\n",
       "      <td>E07000210</td>\n",
       "      <td>Mole Valley</td>\n",
       "      <td>Borough total</td>\n",
       "      <td>4</td>\n",
       "      <td>20</td>\n",
       "      <td>31</td>\n",
       "      <td>36</td>\n",
       "      <td>357</td>\n",
       "      <td>105</td>\n",
       "      <td>6</td>\n",
       "      <td>54</td>\n",
       "      <td>48</td>\n",
       "      <td>21</td>\n",
       "      <td>1</td>\n",
       "      <td>7</td>\n",
       "      <td>14</td>\n",
       "    </tr>\n",
       "  </tbody>\n",
       "</table>\n",
       "</div>"
      ],
      "text/plain": [
       "       Month    Geocode        Borough           Ward  ROBBERY  \\\n",
       "0 2018-04-01  E10000030   Surrey total   Surrey total       36   \n",
       "1 2018-04-01  E07000207      Elmbridge  Borough total        3   \n",
       "2 2018-04-01  E07000208  Epsom & Ewell  Borough total        4   \n",
       "3 2018-04-01  E07000209      Guildford  Borough total        4   \n",
       "4 2018-04-01  E07000210    Mole Valley  Borough total        4   \n",
       "\n",
       "   DOMESTIC_BURGLARY  VEHICLE_CRIME  VIOLENCE_WITH_INJURY   TNO  \\\n",
       "0                301            437                   489  5692   \n",
       "1                 54             51                    49   638   \n",
       "2                 18             76                    35   477   \n",
       "3                 36             22                    64   709   \n",
       "4                 20             31                    36   357   \n",
       "\n",
       "   VIOLENCE_WITHOUT_INJURY  NON_DOMESTIC_BURGLARY  THEFT_HANDLING  \\\n",
       "0                     1738                    131            1224   \n",
       "1                      195                     13             143   \n",
       "2                      130                      8              90   \n",
       "3                      206                     17             207   \n",
       "4                      105                      6              54   \n",
       "\n",
       "   CRIMINAL_DAMAGE  DRUG_OFFENCES  FRAUD_FORGERY  VEHICLE_INTERFERENCE  \\\n",
       "0              722            202             15                    87   \n",
       "1               73             15              1                    12   \n",
       "2               46             16              1                    31   \n",
       "3               78             27              4                     1   \n",
       "4               48             21              1                     7   \n",
       "\n",
       "   OTHER_OFFENCES  \n",
       "0             178  \n",
       "1              22  \n",
       "2              10  \n",
       "3              20  \n",
       "4              14  "
      ]
     },
     "execution_count": 3,
     "metadata": {},
     "output_type": "execute_result"
    }
   ],
   "source": [
    "file = 'https://www.surreyi.gov.uk/download/surrey-crime-by-category-ward/83d9ce81-d251-46a1-ad36-79e70320aeb2/Master%20Crime%20Category%20by%20Ward.xls'\n",
    "df_ward_crimes = pd.read_excel(file)\n",
    "# take a look at the dataset\n",
    "df_ward_crimes.head()\n"
   ]
  },
  {
   "cell_type": "markdown",
   "metadata": {},
   "source": [
    "Checking the size of DataFrame"
   ]
  },
  {
   "cell_type": "code",
   "execution_count": 4,
   "metadata": {},
   "outputs": [
    {
     "data": {
      "text/plain": [
       "(3924, 17)"
      ]
     },
     "execution_count": 4,
     "metadata": {},
     "output_type": "execute_result"
    }
   ],
   "source": [
    "df_ward_crimes.shape"
   ]
  },
  {
   "cell_type": "markdown",
   "metadata": {},
   "source": [
    "In the following, I read data containing all Wadrs, their postcode and Geographical coordinates."
   ]
  },
  {
   "cell_type": "markdown",
   "metadata": {},
   "source": [
    "# Data preparation"
   ]
  },
  {
   "cell_type": "markdown",
   "metadata": {},
   "source": [
    "#### Cleaning"
   ]
  },
  {
   "cell_type": "markdown",
   "metadata": {},
   "source": [
    "The df_ward_crimes DataFrame contains rows which are not needed in our study, so I drop them."
   ]
  },
  {
   "cell_type": "code",
   "execution_count": 5,
   "metadata": {},
   "outputs": [
    {
     "data": {
      "text/html": [
       "<div>\n",
       "<style scoped>\n",
       "    .dataframe tbody tr th:only-of-type {\n",
       "        vertical-align: middle;\n",
       "    }\n",
       "\n",
       "    .dataframe tbody tr th {\n",
       "        vertical-align: top;\n",
       "    }\n",
       "\n",
       "    .dataframe thead th {\n",
       "        text-align: right;\n",
       "    }\n",
       "</style>\n",
       "<table border=\"1\" class=\"dataframe\">\n",
       "  <thead>\n",
       "    <tr style=\"text-align: right;\">\n",
       "      <th></th>\n",
       "      <th>Month</th>\n",
       "      <th>Geocode</th>\n",
       "      <th>Borough</th>\n",
       "      <th>Ward</th>\n",
       "      <th>ROBBERY</th>\n",
       "      <th>DOMESTIC_BURGLARY</th>\n",
       "      <th>VEHICLE_CRIME</th>\n",
       "      <th>VIOLENCE_WITH_INJURY</th>\n",
       "      <th>TNO</th>\n",
       "      <th>VIOLENCE_WITHOUT_INJURY</th>\n",
       "      <th>NON_DOMESTIC_BURGLARY</th>\n",
       "      <th>THEFT_HANDLING</th>\n",
       "      <th>CRIMINAL_DAMAGE</th>\n",
       "      <th>DRUG_OFFENCES</th>\n",
       "      <th>FRAUD_FORGERY</th>\n",
       "      <th>VEHICLE_INTERFERENCE</th>\n",
       "      <th>OTHER_OFFENCES</th>\n",
       "    </tr>\n",
       "  </thead>\n",
       "  <tbody>\n",
       "    <tr>\n",
       "      <th>12</th>\n",
       "      <td>2018-04-01</td>\n",
       "      <td>E05007251</td>\n",
       "      <td>EL</td>\n",
       "      <td>Claygate</td>\n",
       "      <td>0</td>\n",
       "      <td>1</td>\n",
       "      <td>0</td>\n",
       "      <td>4</td>\n",
       "      <td>26</td>\n",
       "      <td>12</td>\n",
       "      <td>1</td>\n",
       "      <td>4</td>\n",
       "      <td>3</td>\n",
       "      <td>0</td>\n",
       "      <td>0</td>\n",
       "      <td>0</td>\n",
       "      <td>0</td>\n",
       "    </tr>\n",
       "    <tr>\n",
       "      <th>13</th>\n",
       "      <td>2018-04-01</td>\n",
       "      <td>E05007253</td>\n",
       "      <td>EL</td>\n",
       "      <td>Cobham Fairmile</td>\n",
       "      <td>1</td>\n",
       "      <td>2</td>\n",
       "      <td>2</td>\n",
       "      <td>2</td>\n",
       "      <td>26</td>\n",
       "      <td>10</td>\n",
       "      <td>0</td>\n",
       "      <td>4</td>\n",
       "      <td>3</td>\n",
       "      <td>0</td>\n",
       "      <td>0</td>\n",
       "      <td>1</td>\n",
       "      <td>0</td>\n",
       "    </tr>\n",
       "    <tr>\n",
       "      <th>14</th>\n",
       "      <td>2018-04-01</td>\n",
       "      <td>E05007252</td>\n",
       "      <td>EL</td>\n",
       "      <td>Cobham and Downside</td>\n",
       "      <td>0</td>\n",
       "      <td>0</td>\n",
       "      <td>1</td>\n",
       "      <td>1</td>\n",
       "      <td>43</td>\n",
       "      <td>9</td>\n",
       "      <td>0</td>\n",
       "      <td>24</td>\n",
       "      <td>3</td>\n",
       "      <td>3</td>\n",
       "      <td>1</td>\n",
       "      <td>0</td>\n",
       "      <td>1</td>\n",
       "    </tr>\n",
       "    <tr>\n",
       "      <th>15</th>\n",
       "      <td>2018-04-01</td>\n",
       "      <td>E05007254</td>\n",
       "      <td>EL</td>\n",
       "      <td>Esher</td>\n",
       "      <td>2</td>\n",
       "      <td>5</td>\n",
       "      <td>2</td>\n",
       "      <td>4</td>\n",
       "      <td>28</td>\n",
       "      <td>7</td>\n",
       "      <td>0</td>\n",
       "      <td>4</td>\n",
       "      <td>4</td>\n",
       "      <td>0</td>\n",
       "      <td>0</td>\n",
       "      <td>0</td>\n",
       "      <td>0</td>\n",
       "    </tr>\n",
       "    <tr>\n",
       "      <th>16</th>\n",
       "      <td>2018-04-01</td>\n",
       "      <td>E05007255</td>\n",
       "      <td>EL</td>\n",
       "      <td>Hersham North</td>\n",
       "      <td>0</td>\n",
       "      <td>8</td>\n",
       "      <td>0</td>\n",
       "      <td>2</td>\n",
       "      <td>37</td>\n",
       "      <td>14</td>\n",
       "      <td>0</td>\n",
       "      <td>5</td>\n",
       "      <td>6</td>\n",
       "      <td>0</td>\n",
       "      <td>0</td>\n",
       "      <td>0</td>\n",
       "      <td>2</td>\n",
       "    </tr>\n",
       "  </tbody>\n",
       "</table>\n",
       "</div>"
      ],
      "text/plain": [
       "        Month    Geocode Borough                 Ward  ROBBERY  \\\n",
       "12 2018-04-01  E05007251      EL             Claygate        0   \n",
       "13 2018-04-01  E05007253      EL      Cobham Fairmile        1   \n",
       "14 2018-04-01  E05007252      EL  Cobham and Downside        0   \n",
       "15 2018-04-01  E05007254      EL                Esher        2   \n",
       "16 2018-04-01  E05007255      EL        Hersham North        0   \n",
       "\n",
       "    DOMESTIC_BURGLARY  VEHICLE_CRIME  VIOLENCE_WITH_INJURY  TNO  \\\n",
       "12                  1              0                     4   26   \n",
       "13                  2              2                     2   26   \n",
       "14                  0              1                     1   43   \n",
       "15                  5              2                     4   28   \n",
       "16                  8              0                     2   37   \n",
       "\n",
       "    VIOLENCE_WITHOUT_INJURY  NON_DOMESTIC_BURGLARY  THEFT_HANDLING  \\\n",
       "12                       12                      1               4   \n",
       "13                       10                      0               4   \n",
       "14                        9                      0              24   \n",
       "15                        7                      0               4   \n",
       "16                       14                      0               5   \n",
       "\n",
       "    CRIMINAL_DAMAGE  DRUG_OFFENCES  FRAUD_FORGERY  VEHICLE_INTERFERENCE  \\\n",
       "12                3              0              0                     0   \n",
       "13                3              0              0                     1   \n",
       "14                3              3              1                     0   \n",
       "15                4              0              0                     0   \n",
       "16                6              0              0                     0   \n",
       "\n",
       "    OTHER_OFFENCES  \n",
       "12               0  \n",
       "13               0  \n",
       "14               1  \n",
       "15               0  \n",
       "16               2  "
      ]
     },
     "execution_count": 5,
     "metadata": {},
     "output_type": "execute_result"
    }
   ],
   "source": [
    "rslt_df = df_ward_crimes.loc[lambda df_ward_crimes: (df_ward_crimes['Ward'] != 'Surrey total') & (df_ward_crimes['Ward'] != 'Borough total')] \n",
    "rslt_df.head()"
   ]
  },
  {
   "cell_type": "code",
   "execution_count": 6,
   "metadata": {},
   "outputs": [],
   "source": [
    "# reset index, because we droped  a couple of rows\n",
    "rslt_df.reset_index(drop=True, inplace=True)   "
   ]
  },
  {
   "cell_type": "code",
   "execution_count": 7,
   "metadata": {},
   "outputs": [
    {
     "data": {
      "text/plain": [
       "(3708, 17)"
      ]
     },
     "execution_count": 7,
     "metadata": {},
     "output_type": "execute_result"
    }
   ],
   "source": [
    "#Checking the size of DataFrame\n",
    "rslt_df.shape"
   ]
  },
  {
   "cell_type": "markdown",
   "metadata": {},
   "source": [
    "In our data, the name of Boroughs have been provided by their abbreviation; for clarity, I replace them with their full name using a dictionary"
   ]
  },
  {
   "cell_type": "code",
   "execution_count": 8,
   "metadata": {},
   "outputs": [
    {
     "name": "stderr",
     "output_type": "stream",
     "text": [
      "/home/jupyterlab/conda/envs/python/lib/python3.6/site-packages/pandas/core/frame.py:4278: SettingWithCopyWarning: \n",
      "A value is trying to be set on a copy of a slice from a DataFrame\n",
      "\n",
      "See the caveats in the documentation: http://pandas.pydata.org/pandas-docs/stable/user_guide/indexing.html#returning-a-view-versus-a-copy\n",
      "  method=method,\n"
     ]
    },
    {
     "data": {
      "text/html": [
       "<div>\n",
       "<style scoped>\n",
       "    .dataframe tbody tr th:only-of-type {\n",
       "        vertical-align: middle;\n",
       "    }\n",
       "\n",
       "    .dataframe tbody tr th {\n",
       "        vertical-align: top;\n",
       "    }\n",
       "\n",
       "    .dataframe thead th {\n",
       "        text-align: right;\n",
       "    }\n",
       "</style>\n",
       "<table border=\"1\" class=\"dataframe\">\n",
       "  <thead>\n",
       "    <tr style=\"text-align: right;\">\n",
       "      <th></th>\n",
       "      <th>Month</th>\n",
       "      <th>Geocode</th>\n",
       "      <th>Borough</th>\n",
       "      <th>Ward</th>\n",
       "      <th>ROBBERY</th>\n",
       "      <th>DOMESTIC_BURGLARY</th>\n",
       "      <th>VEHICLE_CRIME</th>\n",
       "      <th>VIOLENCE_WITH_INJURY</th>\n",
       "      <th>TNO</th>\n",
       "      <th>VIOLENCE_WITHOUT_INJURY</th>\n",
       "      <th>NON_DOMESTIC_BURGLARY</th>\n",
       "      <th>THEFT_HANDLING</th>\n",
       "      <th>CRIMINAL_DAMAGE</th>\n",
       "      <th>DRUG_OFFENCES</th>\n",
       "      <th>FRAUD_FORGERY</th>\n",
       "      <th>VEHICLE_INTERFERENCE</th>\n",
       "      <th>OTHER_OFFENCES</th>\n",
       "    </tr>\n",
       "  </thead>\n",
       "  <tbody>\n",
       "    <tr>\n",
       "      <th>0</th>\n",
       "      <td>2018-04-01</td>\n",
       "      <td>E05007251</td>\n",
       "      <td>Elmbridge</td>\n",
       "      <td>Claygate</td>\n",
       "      <td>0</td>\n",
       "      <td>1</td>\n",
       "      <td>0</td>\n",
       "      <td>4</td>\n",
       "      <td>26</td>\n",
       "      <td>12</td>\n",
       "      <td>1</td>\n",
       "      <td>4</td>\n",
       "      <td>3</td>\n",
       "      <td>0</td>\n",
       "      <td>0</td>\n",
       "      <td>0</td>\n",
       "      <td>0</td>\n",
       "    </tr>\n",
       "    <tr>\n",
       "      <th>1</th>\n",
       "      <td>2018-04-01</td>\n",
       "      <td>E05007253</td>\n",
       "      <td>Elmbridge</td>\n",
       "      <td>Cobham Fairmile</td>\n",
       "      <td>1</td>\n",
       "      <td>2</td>\n",
       "      <td>2</td>\n",
       "      <td>2</td>\n",
       "      <td>26</td>\n",
       "      <td>10</td>\n",
       "      <td>0</td>\n",
       "      <td>4</td>\n",
       "      <td>3</td>\n",
       "      <td>0</td>\n",
       "      <td>0</td>\n",
       "      <td>1</td>\n",
       "      <td>0</td>\n",
       "    </tr>\n",
       "    <tr>\n",
       "      <th>2</th>\n",
       "      <td>2018-04-01</td>\n",
       "      <td>E05007252</td>\n",
       "      <td>Elmbridge</td>\n",
       "      <td>Cobham and Downside</td>\n",
       "      <td>0</td>\n",
       "      <td>0</td>\n",
       "      <td>1</td>\n",
       "      <td>1</td>\n",
       "      <td>43</td>\n",
       "      <td>9</td>\n",
       "      <td>0</td>\n",
       "      <td>24</td>\n",
       "      <td>3</td>\n",
       "      <td>3</td>\n",
       "      <td>1</td>\n",
       "      <td>0</td>\n",
       "      <td>1</td>\n",
       "    </tr>\n",
       "    <tr>\n",
       "      <th>3</th>\n",
       "      <td>2018-04-01</td>\n",
       "      <td>E05007254</td>\n",
       "      <td>Elmbridge</td>\n",
       "      <td>Esher</td>\n",
       "      <td>2</td>\n",
       "      <td>5</td>\n",
       "      <td>2</td>\n",
       "      <td>4</td>\n",
       "      <td>28</td>\n",
       "      <td>7</td>\n",
       "      <td>0</td>\n",
       "      <td>4</td>\n",
       "      <td>4</td>\n",
       "      <td>0</td>\n",
       "      <td>0</td>\n",
       "      <td>0</td>\n",
       "      <td>0</td>\n",
       "    </tr>\n",
       "    <tr>\n",
       "      <th>4</th>\n",
       "      <td>2018-04-01</td>\n",
       "      <td>E05007255</td>\n",
       "      <td>Elmbridge</td>\n",
       "      <td>Hersham North</td>\n",
       "      <td>0</td>\n",
       "      <td>8</td>\n",
       "      <td>0</td>\n",
       "      <td>2</td>\n",
       "      <td>37</td>\n",
       "      <td>14</td>\n",
       "      <td>0</td>\n",
       "      <td>5</td>\n",
       "      <td>6</td>\n",
       "      <td>0</td>\n",
       "      <td>0</td>\n",
       "      <td>0</td>\n",
       "      <td>2</td>\n",
       "    </tr>\n",
       "  </tbody>\n",
       "</table>\n",
       "</div>"
      ],
      "text/plain": [
       "       Month    Geocode    Borough                 Ward  ROBBERY  \\\n",
       "0 2018-04-01  E05007251  Elmbridge             Claygate        0   \n",
       "1 2018-04-01  E05007253  Elmbridge      Cobham Fairmile        1   \n",
       "2 2018-04-01  E05007252  Elmbridge  Cobham and Downside        0   \n",
       "3 2018-04-01  E05007254  Elmbridge                Esher        2   \n",
       "4 2018-04-01  E05007255  Elmbridge        Hersham North        0   \n",
       "\n",
       "   DOMESTIC_BURGLARY  VEHICLE_CRIME  VIOLENCE_WITH_INJURY  TNO  \\\n",
       "0                  1              0                     4   26   \n",
       "1                  2              2                     2   26   \n",
       "2                  0              1                     1   43   \n",
       "3                  5              2                     4   28   \n",
       "4                  8              0                     2   37   \n",
       "\n",
       "   VIOLENCE_WITHOUT_INJURY  NON_DOMESTIC_BURGLARY  THEFT_HANDLING  \\\n",
       "0                       12                      1               4   \n",
       "1                       10                      0               4   \n",
       "2                        9                      0              24   \n",
       "3                        7                      0               4   \n",
       "4                       14                      0               5   \n",
       "\n",
       "   CRIMINAL_DAMAGE  DRUG_OFFENCES  FRAUD_FORGERY  VEHICLE_INTERFERENCE  \\\n",
       "0                3              0              0                     0   \n",
       "1                3              0              0                     1   \n",
       "2                3              3              1                     0   \n",
       "3                4              0              0                     0   \n",
       "4                6              0              0                     0   \n",
       "\n",
       "   OTHER_OFFENCES  \n",
       "0               0  \n",
       "1               0  \n",
       "2               1  \n",
       "3               0  \n",
       "4               2  "
      ]
     },
     "execution_count": 8,
     "metadata": {},
     "output_type": "execute_result"
    }
   ],
   "source": [
    "Boro_dic={'EL':'Elmbridge','EP':'Epsom & Ewell','GD':'Guildford','MV':'Mole Valley', 'RB':'Reigate & Banstead','RM':'Runnymede','SL':'Spelthorne', 'SH':'Surrey Heath','TD':'Tandridge','WV':'Waverley','WK':'Woking'}\n",
    "rslt_df.replace( to_replace=Boro_dic, value=None, inplace=True) # give full name to Boroughs utilising above dictinary    \n",
    "rslt_df.head()"
   ]
  },
  {
   "cell_type": "markdown",
   "metadata": {},
   "source": [
    "Remove columns (i.e., 'Month' and 'Geocode') which is unnecessary our analysis.  "
   ]
  },
  {
   "cell_type": "code",
   "execution_count": 9,
   "metadata": {},
   "outputs": [
    {
     "name": "stderr",
     "output_type": "stream",
     "text": [
      "/home/jupyterlab/conda/envs/python/lib/python3.6/site-packages/pandas/core/frame.py:4117: SettingWithCopyWarning: \n",
      "A value is trying to be set on a copy of a slice from a DataFrame\n",
      "\n",
      "See the caveats in the documentation: http://pandas.pydata.org/pandas-docs/stable/user_guide/indexing.html#returning-a-view-versus-a-copy\n",
      "  errors=errors,\n"
     ]
    },
    {
     "data": {
      "text/html": [
       "<div>\n",
       "<style scoped>\n",
       "    .dataframe tbody tr th:only-of-type {\n",
       "        vertical-align: middle;\n",
       "    }\n",
       "\n",
       "    .dataframe tbody tr th {\n",
       "        vertical-align: top;\n",
       "    }\n",
       "\n",
       "    .dataframe thead th {\n",
       "        text-align: right;\n",
       "    }\n",
       "</style>\n",
       "<table border=\"1\" class=\"dataframe\">\n",
       "  <thead>\n",
       "    <tr style=\"text-align: right;\">\n",
       "      <th></th>\n",
       "      <th>Borough</th>\n",
       "      <th>Ward</th>\n",
       "      <th>ROBBERY</th>\n",
       "      <th>DOMESTIC_BURGLARY</th>\n",
       "      <th>VEHICLE_CRIME</th>\n",
       "      <th>VIOLENCE_WITH_INJURY</th>\n",
       "      <th>TNO</th>\n",
       "      <th>VIOLENCE_WITHOUT_INJURY</th>\n",
       "      <th>NON_DOMESTIC_BURGLARY</th>\n",
       "      <th>THEFT_HANDLING</th>\n",
       "      <th>CRIMINAL_DAMAGE</th>\n",
       "      <th>DRUG_OFFENCES</th>\n",
       "      <th>FRAUD_FORGERY</th>\n",
       "      <th>VEHICLE_INTERFERENCE</th>\n",
       "      <th>OTHER_OFFENCES</th>\n",
       "    </tr>\n",
       "  </thead>\n",
       "  <tbody>\n",
       "    <tr>\n",
       "      <th>0</th>\n",
       "      <td>Elmbridge</td>\n",
       "      <td>Claygate</td>\n",
       "      <td>0</td>\n",
       "      <td>1</td>\n",
       "      <td>0</td>\n",
       "      <td>4</td>\n",
       "      <td>26</td>\n",
       "      <td>12</td>\n",
       "      <td>1</td>\n",
       "      <td>4</td>\n",
       "      <td>3</td>\n",
       "      <td>0</td>\n",
       "      <td>0</td>\n",
       "      <td>0</td>\n",
       "      <td>0</td>\n",
       "    </tr>\n",
       "    <tr>\n",
       "      <th>1</th>\n",
       "      <td>Elmbridge</td>\n",
       "      <td>Cobham Fairmile</td>\n",
       "      <td>1</td>\n",
       "      <td>2</td>\n",
       "      <td>2</td>\n",
       "      <td>2</td>\n",
       "      <td>26</td>\n",
       "      <td>10</td>\n",
       "      <td>0</td>\n",
       "      <td>4</td>\n",
       "      <td>3</td>\n",
       "      <td>0</td>\n",
       "      <td>0</td>\n",
       "      <td>1</td>\n",
       "      <td>0</td>\n",
       "    </tr>\n",
       "    <tr>\n",
       "      <th>2</th>\n",
       "      <td>Elmbridge</td>\n",
       "      <td>Cobham and Downside</td>\n",
       "      <td>0</td>\n",
       "      <td>0</td>\n",
       "      <td>1</td>\n",
       "      <td>1</td>\n",
       "      <td>43</td>\n",
       "      <td>9</td>\n",
       "      <td>0</td>\n",
       "      <td>24</td>\n",
       "      <td>3</td>\n",
       "      <td>3</td>\n",
       "      <td>1</td>\n",
       "      <td>0</td>\n",
       "      <td>1</td>\n",
       "    </tr>\n",
       "    <tr>\n",
       "      <th>3</th>\n",
       "      <td>Elmbridge</td>\n",
       "      <td>Esher</td>\n",
       "      <td>2</td>\n",
       "      <td>5</td>\n",
       "      <td>2</td>\n",
       "      <td>4</td>\n",
       "      <td>28</td>\n",
       "      <td>7</td>\n",
       "      <td>0</td>\n",
       "      <td>4</td>\n",
       "      <td>4</td>\n",
       "      <td>0</td>\n",
       "      <td>0</td>\n",
       "      <td>0</td>\n",
       "      <td>0</td>\n",
       "    </tr>\n",
       "    <tr>\n",
       "      <th>4</th>\n",
       "      <td>Elmbridge</td>\n",
       "      <td>Hersham North</td>\n",
       "      <td>0</td>\n",
       "      <td>8</td>\n",
       "      <td>0</td>\n",
       "      <td>2</td>\n",
       "      <td>37</td>\n",
       "      <td>14</td>\n",
       "      <td>0</td>\n",
       "      <td>5</td>\n",
       "      <td>6</td>\n",
       "      <td>0</td>\n",
       "      <td>0</td>\n",
       "      <td>0</td>\n",
       "      <td>2</td>\n",
       "    </tr>\n",
       "  </tbody>\n",
       "</table>\n",
       "</div>"
      ],
      "text/plain": [
       "     Borough                 Ward  ROBBERY  DOMESTIC_BURGLARY  VEHICLE_CRIME  \\\n",
       "0  Elmbridge             Claygate        0                  1              0   \n",
       "1  Elmbridge      Cobham Fairmile        1                  2              2   \n",
       "2  Elmbridge  Cobham and Downside        0                  0              1   \n",
       "3  Elmbridge                Esher        2                  5              2   \n",
       "4  Elmbridge        Hersham North        0                  8              0   \n",
       "\n",
       "   VIOLENCE_WITH_INJURY  TNO  VIOLENCE_WITHOUT_INJURY  NON_DOMESTIC_BURGLARY  \\\n",
       "0                     4   26                       12                      1   \n",
       "1                     2   26                       10                      0   \n",
       "2                     1   43                        9                      0   \n",
       "3                     4   28                        7                      0   \n",
       "4                     2   37                       14                      0   \n",
       "\n",
       "   THEFT_HANDLING  CRIMINAL_DAMAGE  DRUG_OFFENCES  FRAUD_FORGERY  \\\n",
       "0               4                3              0              0   \n",
       "1               4                3              0              0   \n",
       "2              24                3              3              1   \n",
       "3               4                4              0              0   \n",
       "4               5                6              0              0   \n",
       "\n",
       "   VEHICLE_INTERFERENCE  OTHER_OFFENCES  \n",
       "0                     0               0  \n",
       "1                     1               0  \n",
       "2                     0               1  \n",
       "3                     0               0  \n",
       "4                     0               2  "
      ]
     },
     "execution_count": 9,
     "metadata": {},
     "output_type": "execute_result"
    }
   ],
   "source": [
    "rslt_df.drop(columns=['Month','Geocode'], inplace=True, )  #remove unrequired column\n",
    "\n",
    "rslt_df.head()"
   ]
  },
  {
   "cell_type": "markdown",
   "metadata": {},
   "source": [
    "##### Check for null values"
   ]
  },
  {
   "cell_type": "code",
   "execution_count": 10,
   "metadata": {},
   "outputs": [
    {
     "data": {
      "text/plain": [
       "False"
      ]
     },
     "execution_count": 10,
     "metadata": {},
     "output_type": "execute_result"
    }
   ],
   "source": [
    "rslt_df.isnull().values.any()"
   ]
  },
  {
   "cell_type": "code",
   "execution_count": 46,
   "metadata": {},
   "outputs": [
    {
     "data": {
      "text/plain": [
       "Borough                    object\n",
       "Ward                       object\n",
       "ROBBERY                     int64\n",
       "DOMESTIC_BURGLARY           int64\n",
       "VEHICLE_CRIME               int64\n",
       "VIOLENCE_WITH_INJURY        int64\n",
       "TNO                         int64\n",
       "VIOLENCE_WITHOUT_INJURY     int64\n",
       "NON_DOMESTIC_BURGLARY       int64\n",
       "THEFT_HANDLING              int64\n",
       "CRIMINAL_DAMAGE             int64\n",
       "DRUG_OFFENCES               int64\n",
       "FRAUD_FORGERY               int64\n",
       "VEHICLE_INTERFERENCE        int64\n",
       "OTHER_OFFENCES              int64\n",
       "dtype: object"
      ]
     },
     "execution_count": 46,
     "metadata": {},
     "output_type": "execute_result"
    }
   ],
   "source": [
    "rslt_df.dtypes"
   ]
  },
  {
   "cell_type": "markdown",
   "metadata": {},
   "source": [
    "#### Descriptive Statistical Analysis"
   ]
  },
  {
   "cell_type": "code",
   "execution_count": 11,
   "metadata": {},
   "outputs": [
    {
     "data": {
      "text/html": [
       "<div>\n",
       "<style scoped>\n",
       "    .dataframe tbody tr th:only-of-type {\n",
       "        vertical-align: middle;\n",
       "    }\n",
       "\n",
       "    .dataframe tbody tr th {\n",
       "        vertical-align: top;\n",
       "    }\n",
       "\n",
       "    .dataframe thead th {\n",
       "        text-align: right;\n",
       "    }\n",
       "</style>\n",
       "<table border=\"1\" class=\"dataframe\">\n",
       "  <thead>\n",
       "    <tr style=\"text-align: right;\">\n",
       "      <th></th>\n",
       "      <th>ROBBERY</th>\n",
       "      <th>DOMESTIC_BURGLARY</th>\n",
       "      <th>VEHICLE_CRIME</th>\n",
       "      <th>VIOLENCE_WITH_INJURY</th>\n",
       "      <th>TNO</th>\n",
       "      <th>VIOLENCE_WITHOUT_INJURY</th>\n",
       "      <th>NON_DOMESTIC_BURGLARY</th>\n",
       "      <th>THEFT_HANDLING</th>\n",
       "      <th>CRIMINAL_DAMAGE</th>\n",
       "      <th>DRUG_OFFENCES</th>\n",
       "      <th>FRAUD_FORGERY</th>\n",
       "      <th>VEHICLE_INTERFERENCE</th>\n",
       "      <th>OTHER_OFFENCES</th>\n",
       "    </tr>\n",
       "  </thead>\n",
       "  <tbody>\n",
       "    <tr>\n",
       "      <th>count</th>\n",
       "      <td>3708.000000</td>\n",
       "      <td>3708.000000</td>\n",
       "      <td>3708.000000</td>\n",
       "      <td>3708.000000</td>\n",
       "      <td>3708.000000</td>\n",
       "      <td>3708.000000</td>\n",
       "      <td>3708.000000</td>\n",
       "      <td>3708.000000</td>\n",
       "      <td>3708.000000</td>\n",
       "      <td>3708.000000</td>\n",
       "      <td>3708.000000</td>\n",
       "      <td>3708.000000</td>\n",
       "      <td>3708.000000</td>\n",
       "    </tr>\n",
       "    <tr>\n",
       "      <th>mean</th>\n",
       "      <td>0.097357</td>\n",
       "      <td>1.759978</td>\n",
       "      <td>1.659924</td>\n",
       "      <td>2.203074</td>\n",
       "      <td>24.677454</td>\n",
       "      <td>7.516451</td>\n",
       "      <td>0.510248</td>\n",
       "      <td>5.565804</td>\n",
       "      <td>3.015102</td>\n",
       "      <td>0.500000</td>\n",
       "      <td>0.057174</td>\n",
       "      <td>0.281553</td>\n",
       "      <td>0.774002</td>\n",
       "    </tr>\n",
       "    <tr>\n",
       "      <th>std</th>\n",
       "      <td>0.351441</td>\n",
       "      <td>1.761806</td>\n",
       "      <td>1.967785</td>\n",
       "      <td>2.479051</td>\n",
       "      <td>19.022258</td>\n",
       "      <td>6.384201</td>\n",
       "      <td>0.922197</td>\n",
       "      <td>7.310910</td>\n",
       "      <td>2.797796</td>\n",
       "      <td>1.808397</td>\n",
       "      <td>0.270817</td>\n",
       "      <td>0.712155</td>\n",
       "      <td>1.324645</td>\n",
       "    </tr>\n",
       "    <tr>\n",
       "      <th>min</th>\n",
       "      <td>0.000000</td>\n",
       "      <td>0.000000</td>\n",
       "      <td>0.000000</td>\n",
       "      <td>0.000000</td>\n",
       "      <td>0.000000</td>\n",
       "      <td>0.000000</td>\n",
       "      <td>0.000000</td>\n",
       "      <td>0.000000</td>\n",
       "      <td>0.000000</td>\n",
       "      <td>0.000000</td>\n",
       "      <td>0.000000</td>\n",
       "      <td>0.000000</td>\n",
       "      <td>0.000000</td>\n",
       "    </tr>\n",
       "    <tr>\n",
       "      <th>25%</th>\n",
       "      <td>0.000000</td>\n",
       "      <td>0.000000</td>\n",
       "      <td>0.000000</td>\n",
       "      <td>0.000000</td>\n",
       "      <td>12.000000</td>\n",
       "      <td>3.000000</td>\n",
       "      <td>0.000000</td>\n",
       "      <td>1.000000</td>\n",
       "      <td>1.000000</td>\n",
       "      <td>0.000000</td>\n",
       "      <td>0.000000</td>\n",
       "      <td>0.000000</td>\n",
       "      <td>0.000000</td>\n",
       "    </tr>\n",
       "    <tr>\n",
       "      <th>50%</th>\n",
       "      <td>0.000000</td>\n",
       "      <td>1.000000</td>\n",
       "      <td>1.000000</td>\n",
       "      <td>2.000000</td>\n",
       "      <td>20.000000</td>\n",
       "      <td>6.000000</td>\n",
       "      <td>0.000000</td>\n",
       "      <td>3.000000</td>\n",
       "      <td>2.000000</td>\n",
       "      <td>0.000000</td>\n",
       "      <td>0.000000</td>\n",
       "      <td>0.000000</td>\n",
       "      <td>0.000000</td>\n",
       "    </tr>\n",
       "    <tr>\n",
       "      <th>75%</th>\n",
       "      <td>0.000000</td>\n",
       "      <td>3.000000</td>\n",
       "      <td>2.000000</td>\n",
       "      <td>3.000000</td>\n",
       "      <td>31.000000</td>\n",
       "      <td>10.000000</td>\n",
       "      <td>1.000000</td>\n",
       "      <td>7.000000</td>\n",
       "      <td>4.000000</td>\n",
       "      <td>1.000000</td>\n",
       "      <td>0.000000</td>\n",
       "      <td>0.000000</td>\n",
       "      <td>1.000000</td>\n",
       "    </tr>\n",
       "    <tr>\n",
       "      <th>max</th>\n",
       "      <td>4.000000</td>\n",
       "      <td>11.000000</td>\n",
       "      <td>20.000000</td>\n",
       "      <td>22.000000</td>\n",
       "      <td>162.000000</td>\n",
       "      <td>50.000000</td>\n",
       "      <td>10.000000</td>\n",
       "      <td>71.000000</td>\n",
       "      <td>23.000000</td>\n",
       "      <td>91.000000</td>\n",
       "      <td>4.000000</td>\n",
       "      <td>9.000000</td>\n",
       "      <td>17.000000</td>\n",
       "    </tr>\n",
       "  </tbody>\n",
       "</table>\n",
       "</div>"
      ],
      "text/plain": [
       "           ROBBERY  DOMESTIC_BURGLARY  VEHICLE_CRIME  VIOLENCE_WITH_INJURY  \\\n",
       "count  3708.000000        3708.000000    3708.000000           3708.000000   \n",
       "mean      0.097357           1.759978       1.659924              2.203074   \n",
       "std       0.351441           1.761806       1.967785              2.479051   \n",
       "min       0.000000           0.000000       0.000000              0.000000   \n",
       "25%       0.000000           0.000000       0.000000              0.000000   \n",
       "50%       0.000000           1.000000       1.000000              2.000000   \n",
       "75%       0.000000           3.000000       2.000000              3.000000   \n",
       "max       4.000000          11.000000      20.000000             22.000000   \n",
       "\n",
       "               TNO  VIOLENCE_WITHOUT_INJURY  NON_DOMESTIC_BURGLARY  \\\n",
       "count  3708.000000              3708.000000            3708.000000   \n",
       "mean     24.677454                 7.516451               0.510248   \n",
       "std      19.022258                 6.384201               0.922197   \n",
       "min       0.000000                 0.000000               0.000000   \n",
       "25%      12.000000                 3.000000               0.000000   \n",
       "50%      20.000000                 6.000000               0.000000   \n",
       "75%      31.000000                10.000000               1.000000   \n",
       "max     162.000000                50.000000              10.000000   \n",
       "\n",
       "       THEFT_HANDLING  CRIMINAL_DAMAGE  DRUG_OFFENCES  FRAUD_FORGERY  \\\n",
       "count     3708.000000      3708.000000    3708.000000    3708.000000   \n",
       "mean         5.565804         3.015102       0.500000       0.057174   \n",
       "std          7.310910         2.797796       1.808397       0.270817   \n",
       "min          0.000000         0.000000       0.000000       0.000000   \n",
       "25%          1.000000         1.000000       0.000000       0.000000   \n",
       "50%          3.000000         2.000000       0.000000       0.000000   \n",
       "75%          7.000000         4.000000       1.000000       0.000000   \n",
       "max         71.000000        23.000000      91.000000       4.000000   \n",
       "\n",
       "       VEHICLE_INTERFERENCE  OTHER_OFFENCES  \n",
       "count           3708.000000     3708.000000  \n",
       "mean               0.281553        0.774002  \n",
       "std                0.712155        1.324645  \n",
       "min                0.000000        0.000000  \n",
       "25%                0.000000        0.000000  \n",
       "50%                0.000000        0.000000  \n",
       "75%                0.000000        1.000000  \n",
       "max                9.000000       17.000000  "
      ]
     },
     "execution_count": 11,
     "metadata": {},
     "output_type": "execute_result"
    }
   ],
   "source": [
    "rslt_df.describe()"
   ]
  },
  {
   "cell_type": "markdown",
   "metadata": {},
   "source": [
    "#### Analysing crimes' categories and their correlations using Visualisation"
   ]
  },
  {
   "cell_type": "code",
   "execution_count": 12,
   "metadata": {},
   "outputs": [
    {
     "data": {
      "text/html": [
       "<div>\n",
       "<style scoped>\n",
       "    .dataframe tbody tr th:only-of-type {\n",
       "        vertical-align: middle;\n",
       "    }\n",
       "\n",
       "    .dataframe tbody tr th {\n",
       "        vertical-align: top;\n",
       "    }\n",
       "\n",
       "    .dataframe thead th {\n",
       "        text-align: right;\n",
       "    }\n",
       "</style>\n",
       "<table border=\"1\" class=\"dataframe\">\n",
       "  <thead>\n",
       "    <tr style=\"text-align: right;\">\n",
       "      <th></th>\n",
       "      <th>ROBBERY</th>\n",
       "      <th>DOMESTIC_BURGLARY</th>\n",
       "      <th>VEHICLE_CRIME</th>\n",
       "      <th>VIOLENCE_WITH_INJURY</th>\n",
       "      <th>TNO</th>\n",
       "      <th>VIOLENCE_WITHOUT_INJURY</th>\n",
       "      <th>NON_DOMESTIC_BURGLARY</th>\n",
       "      <th>THEFT_HANDLING</th>\n",
       "      <th>CRIMINAL_DAMAGE</th>\n",
       "      <th>DRUG_OFFENCES</th>\n",
       "      <th>FRAUD_FORGERY</th>\n",
       "      <th>VEHICLE_INTERFERENCE</th>\n",
       "      <th>OTHER_OFFENCES</th>\n",
       "    </tr>\n",
       "  </thead>\n",
       "  <tbody>\n",
       "    <tr>\n",
       "      <th>ROBBERY</th>\n",
       "      <td>1.000000</td>\n",
       "      <td>0.046029</td>\n",
       "      <td>0.078314</td>\n",
       "      <td>0.176701</td>\n",
       "      <td>0.249473</td>\n",
       "      <td>0.196526</td>\n",
       "      <td>0.068918</td>\n",
       "      <td>0.198512</td>\n",
       "      <td>0.169700</td>\n",
       "      <td>0.055391</td>\n",
       "      <td>0.052039</td>\n",
       "      <td>0.009010</td>\n",
       "      <td>0.120288</td>\n",
       "    </tr>\n",
       "    <tr>\n",
       "      <th>DOMESTIC_BURGLARY</th>\n",
       "      <td>0.046029</td>\n",
       "      <td>1.000000</td>\n",
       "      <td>0.156893</td>\n",
       "      <td>0.131108</td>\n",
       "      <td>0.273917</td>\n",
       "      <td>0.157035</td>\n",
       "      <td>0.081708</td>\n",
       "      <td>0.129756</td>\n",
       "      <td>0.161579</td>\n",
       "      <td>0.026332</td>\n",
       "      <td>0.021419</td>\n",
       "      <td>0.096232</td>\n",
       "      <td>0.078238</td>\n",
       "    </tr>\n",
       "    <tr>\n",
       "      <th>VEHICLE_CRIME</th>\n",
       "      <td>0.078314</td>\n",
       "      <td>0.156893</td>\n",
       "      <td>1.000000</td>\n",
       "      <td>0.208369</td>\n",
       "      <td>0.376099</td>\n",
       "      <td>0.236681</td>\n",
       "      <td>0.133257</td>\n",
       "      <td>0.195734</td>\n",
       "      <td>0.226621</td>\n",
       "      <td>0.056135</td>\n",
       "      <td>0.064842</td>\n",
       "      <td>0.361518</td>\n",
       "      <td>0.113738</td>\n",
       "    </tr>\n",
       "    <tr>\n",
       "      <th>VIOLENCE_WITH_INJURY</th>\n",
       "      <td>0.176701</td>\n",
       "      <td>0.131108</td>\n",
       "      <td>0.208369</td>\n",
       "      <td>1.000000</td>\n",
       "      <td>0.719729</td>\n",
       "      <td>0.643024</td>\n",
       "      <td>0.188060</td>\n",
       "      <td>0.490875</td>\n",
       "      <td>0.481797</td>\n",
       "      <td>0.178321</td>\n",
       "      <td>0.141415</td>\n",
       "      <td>0.054700</td>\n",
       "      <td>0.360887</td>\n",
       "    </tr>\n",
       "    <tr>\n",
       "      <th>TNO</th>\n",
       "      <td>0.249473</td>\n",
       "      <td>0.273917</td>\n",
       "      <td>0.376099</td>\n",
       "      <td>0.719729</td>\n",
       "      <td>1.000000</td>\n",
       "      <td>0.871843</td>\n",
       "      <td>0.341789</td>\n",
       "      <td>0.838296</td>\n",
       "      <td>0.684451</td>\n",
       "      <td>0.346283</td>\n",
       "      <td>0.243411</td>\n",
       "      <td>0.150339</td>\n",
       "      <td>0.448577</td>\n",
       "    </tr>\n",
       "    <tr>\n",
       "      <th>VIOLENCE_WITHOUT_INJURY</th>\n",
       "      <td>0.196526</td>\n",
       "      <td>0.157035</td>\n",
       "      <td>0.236681</td>\n",
       "      <td>0.643024</td>\n",
       "      <td>0.871843</td>\n",
       "      <td>1.000000</td>\n",
       "      <td>0.214657</td>\n",
       "      <td>0.606632</td>\n",
       "      <td>0.588267</td>\n",
       "      <td>0.239953</td>\n",
       "      <td>0.189338</td>\n",
       "      <td>0.050779</td>\n",
       "      <td>0.365806</td>\n",
       "    </tr>\n",
       "    <tr>\n",
       "      <th>NON_DOMESTIC_BURGLARY</th>\n",
       "      <td>0.068918</td>\n",
       "      <td>0.081708</td>\n",
       "      <td>0.133257</td>\n",
       "      <td>0.188060</td>\n",
       "      <td>0.341789</td>\n",
       "      <td>0.214657</td>\n",
       "      <td>1.000000</td>\n",
       "      <td>0.306666</td>\n",
       "      <td>0.216052</td>\n",
       "      <td>0.076672</td>\n",
       "      <td>0.095945</td>\n",
       "      <td>0.029287</td>\n",
       "      <td>0.102373</td>\n",
       "    </tr>\n",
       "    <tr>\n",
       "      <th>THEFT_HANDLING</th>\n",
       "      <td>0.198512</td>\n",
       "      <td>0.129756</td>\n",
       "      <td>0.195734</td>\n",
       "      <td>0.490875</td>\n",
       "      <td>0.838296</td>\n",
       "      <td>0.606632</td>\n",
       "      <td>0.306666</td>\n",
       "      <td>1.000000</td>\n",
       "      <td>0.430062</td>\n",
       "      <td>0.234175</td>\n",
       "      <td>0.239803</td>\n",
       "      <td>0.069133</td>\n",
       "      <td>0.319949</td>\n",
       "    </tr>\n",
       "    <tr>\n",
       "      <th>CRIMINAL_DAMAGE</th>\n",
       "      <td>0.169700</td>\n",
       "      <td>0.161579</td>\n",
       "      <td>0.226621</td>\n",
       "      <td>0.481797</td>\n",
       "      <td>0.684451</td>\n",
       "      <td>0.588267</td>\n",
       "      <td>0.216052</td>\n",
       "      <td>0.430062</td>\n",
       "      <td>1.000000</td>\n",
       "      <td>0.163577</td>\n",
       "      <td>0.114925</td>\n",
       "      <td>0.069622</td>\n",
       "      <td>0.280865</td>\n",
       "    </tr>\n",
       "    <tr>\n",
       "      <th>DRUG_OFFENCES</th>\n",
       "      <td>0.055391</td>\n",
       "      <td>0.026332</td>\n",
       "      <td>0.056135</td>\n",
       "      <td>0.178321</td>\n",
       "      <td>0.346283</td>\n",
       "      <td>0.239953</td>\n",
       "      <td>0.076672</td>\n",
       "      <td>0.234175</td>\n",
       "      <td>0.163577</td>\n",
       "      <td>1.000000</td>\n",
       "      <td>0.094190</td>\n",
       "      <td>-0.003142</td>\n",
       "      <td>0.152364</td>\n",
       "    </tr>\n",
       "    <tr>\n",
       "      <th>FRAUD_FORGERY</th>\n",
       "      <td>0.052039</td>\n",
       "      <td>0.021419</td>\n",
       "      <td>0.064842</td>\n",
       "      <td>0.141415</td>\n",
       "      <td>0.243411</td>\n",
       "      <td>0.189338</td>\n",
       "      <td>0.095945</td>\n",
       "      <td>0.239803</td>\n",
       "      <td>0.114925</td>\n",
       "      <td>0.094190</td>\n",
       "      <td>1.000000</td>\n",
       "      <td>0.018618</td>\n",
       "      <td>0.108969</td>\n",
       "    </tr>\n",
       "    <tr>\n",
       "      <th>VEHICLE_INTERFERENCE</th>\n",
       "      <td>0.009010</td>\n",
       "      <td>0.096232</td>\n",
       "      <td>0.361518</td>\n",
       "      <td>0.054700</td>\n",
       "      <td>0.150339</td>\n",
       "      <td>0.050779</td>\n",
       "      <td>0.029287</td>\n",
       "      <td>0.069133</td>\n",
       "      <td>0.069622</td>\n",
       "      <td>-0.003142</td>\n",
       "      <td>0.018618</td>\n",
       "      <td>1.000000</td>\n",
       "      <td>0.036014</td>\n",
       "    </tr>\n",
       "    <tr>\n",
       "      <th>OTHER_OFFENCES</th>\n",
       "      <td>0.120288</td>\n",
       "      <td>0.078238</td>\n",
       "      <td>0.113738</td>\n",
       "      <td>0.360887</td>\n",
       "      <td>0.448577</td>\n",
       "      <td>0.365806</td>\n",
       "      <td>0.102373</td>\n",
       "      <td>0.319949</td>\n",
       "      <td>0.280865</td>\n",
       "      <td>0.152364</td>\n",
       "      <td>0.108969</td>\n",
       "      <td>0.036014</td>\n",
       "      <td>1.000000</td>\n",
       "    </tr>\n",
       "  </tbody>\n",
       "</table>\n",
       "</div>"
      ],
      "text/plain": [
       "                          ROBBERY  DOMESTIC_BURGLARY  VEHICLE_CRIME  \\\n",
       "ROBBERY                  1.000000           0.046029       0.078314   \n",
       "DOMESTIC_BURGLARY        0.046029           1.000000       0.156893   \n",
       "VEHICLE_CRIME            0.078314           0.156893       1.000000   \n",
       "VIOLENCE_WITH_INJURY     0.176701           0.131108       0.208369   \n",
       "TNO                      0.249473           0.273917       0.376099   \n",
       "VIOLENCE_WITHOUT_INJURY  0.196526           0.157035       0.236681   \n",
       "NON_DOMESTIC_BURGLARY    0.068918           0.081708       0.133257   \n",
       "THEFT_HANDLING           0.198512           0.129756       0.195734   \n",
       "CRIMINAL_DAMAGE          0.169700           0.161579       0.226621   \n",
       "DRUG_OFFENCES            0.055391           0.026332       0.056135   \n",
       "FRAUD_FORGERY            0.052039           0.021419       0.064842   \n",
       "VEHICLE_INTERFERENCE     0.009010           0.096232       0.361518   \n",
       "OTHER_OFFENCES           0.120288           0.078238       0.113738   \n",
       "\n",
       "                         VIOLENCE_WITH_INJURY       TNO  \\\n",
       "ROBBERY                              0.176701  0.249473   \n",
       "DOMESTIC_BURGLARY                    0.131108  0.273917   \n",
       "VEHICLE_CRIME                        0.208369  0.376099   \n",
       "VIOLENCE_WITH_INJURY                 1.000000  0.719729   \n",
       "TNO                                  0.719729  1.000000   \n",
       "VIOLENCE_WITHOUT_INJURY              0.643024  0.871843   \n",
       "NON_DOMESTIC_BURGLARY                0.188060  0.341789   \n",
       "THEFT_HANDLING                       0.490875  0.838296   \n",
       "CRIMINAL_DAMAGE                      0.481797  0.684451   \n",
       "DRUG_OFFENCES                        0.178321  0.346283   \n",
       "FRAUD_FORGERY                        0.141415  0.243411   \n",
       "VEHICLE_INTERFERENCE                 0.054700  0.150339   \n",
       "OTHER_OFFENCES                       0.360887  0.448577   \n",
       "\n",
       "                         VIOLENCE_WITHOUT_INJURY  NON_DOMESTIC_BURGLARY  \\\n",
       "ROBBERY                                 0.196526               0.068918   \n",
       "DOMESTIC_BURGLARY                       0.157035               0.081708   \n",
       "VEHICLE_CRIME                           0.236681               0.133257   \n",
       "VIOLENCE_WITH_INJURY                    0.643024               0.188060   \n",
       "TNO                                     0.871843               0.341789   \n",
       "VIOLENCE_WITHOUT_INJURY                 1.000000               0.214657   \n",
       "NON_DOMESTIC_BURGLARY                   0.214657               1.000000   \n",
       "THEFT_HANDLING                          0.606632               0.306666   \n",
       "CRIMINAL_DAMAGE                         0.588267               0.216052   \n",
       "DRUG_OFFENCES                           0.239953               0.076672   \n",
       "FRAUD_FORGERY                           0.189338               0.095945   \n",
       "VEHICLE_INTERFERENCE                    0.050779               0.029287   \n",
       "OTHER_OFFENCES                          0.365806               0.102373   \n",
       "\n",
       "                         THEFT_HANDLING  CRIMINAL_DAMAGE  DRUG_OFFENCES  \\\n",
       "ROBBERY                        0.198512         0.169700       0.055391   \n",
       "DOMESTIC_BURGLARY              0.129756         0.161579       0.026332   \n",
       "VEHICLE_CRIME                  0.195734         0.226621       0.056135   \n",
       "VIOLENCE_WITH_INJURY           0.490875         0.481797       0.178321   \n",
       "TNO                            0.838296         0.684451       0.346283   \n",
       "VIOLENCE_WITHOUT_INJURY        0.606632         0.588267       0.239953   \n",
       "NON_DOMESTIC_BURGLARY          0.306666         0.216052       0.076672   \n",
       "THEFT_HANDLING                 1.000000         0.430062       0.234175   \n",
       "CRIMINAL_DAMAGE                0.430062         1.000000       0.163577   \n",
       "DRUG_OFFENCES                  0.234175         0.163577       1.000000   \n",
       "FRAUD_FORGERY                  0.239803         0.114925       0.094190   \n",
       "VEHICLE_INTERFERENCE           0.069133         0.069622      -0.003142   \n",
       "OTHER_OFFENCES                 0.319949         0.280865       0.152364   \n",
       "\n",
       "                         FRAUD_FORGERY  VEHICLE_INTERFERENCE  OTHER_OFFENCES  \n",
       "ROBBERY                       0.052039              0.009010        0.120288  \n",
       "DOMESTIC_BURGLARY             0.021419              0.096232        0.078238  \n",
       "VEHICLE_CRIME                 0.064842              0.361518        0.113738  \n",
       "VIOLENCE_WITH_INJURY          0.141415              0.054700        0.360887  \n",
       "TNO                           0.243411              0.150339        0.448577  \n",
       "VIOLENCE_WITHOUT_INJURY       0.189338              0.050779        0.365806  \n",
       "NON_DOMESTIC_BURGLARY         0.095945              0.029287        0.102373  \n",
       "THEFT_HANDLING                0.239803              0.069133        0.319949  \n",
       "CRIMINAL_DAMAGE               0.114925              0.069622        0.280865  \n",
       "DRUG_OFFENCES                 0.094190             -0.003142        0.152364  \n",
       "FRAUD_FORGERY                 1.000000              0.018618        0.108969  \n",
       "VEHICLE_INTERFERENCE          0.018618              1.000000        0.036014  \n",
       "OTHER_OFFENCES                0.108969              0.036014        1.000000  "
      ]
     },
     "execution_count": 12,
     "metadata": {},
     "output_type": "execute_result"
    }
   ],
   "source": [
    "rslt_df.corr()"
   ]
  },
  {
   "cell_type": "code",
   "execution_count": 13,
   "metadata": {},
   "outputs": [
    {
     "data": {
      "text/html": [
       "<div>\n",
       "<style scoped>\n",
       "    .dataframe tbody tr th:only-of-type {\n",
       "        vertical-align: middle;\n",
       "    }\n",
       "\n",
       "    .dataframe tbody tr th {\n",
       "        vertical-align: top;\n",
       "    }\n",
       "\n",
       "    .dataframe thead th {\n",
       "        text-align: right;\n",
       "    }\n",
       "</style>\n",
       "<table border=\"1\" class=\"dataframe\">\n",
       "  <thead>\n",
       "    <tr style=\"text-align: right;\">\n",
       "      <th></th>\n",
       "      <th>CRIMINAL_DAMAGE</th>\n",
       "      <th>VIOLENCE_WITH_INJURY</th>\n",
       "      <th>VIOLENCE_WITHOUT_INJURY</th>\n",
       "      <th>THEFT_HANDLING</th>\n",
       "    </tr>\n",
       "  </thead>\n",
       "  <tbody>\n",
       "    <tr>\n",
       "      <th>CRIMINAL_DAMAGE</th>\n",
       "      <td>1.000000</td>\n",
       "      <td>0.481797</td>\n",
       "      <td>0.588267</td>\n",
       "      <td>0.430062</td>\n",
       "    </tr>\n",
       "    <tr>\n",
       "      <th>VIOLENCE_WITH_INJURY</th>\n",
       "      <td>0.481797</td>\n",
       "      <td>1.000000</td>\n",
       "      <td>0.643024</td>\n",
       "      <td>0.490875</td>\n",
       "    </tr>\n",
       "    <tr>\n",
       "      <th>VIOLENCE_WITHOUT_INJURY</th>\n",
       "      <td>0.588267</td>\n",
       "      <td>0.643024</td>\n",
       "      <td>1.000000</td>\n",
       "      <td>0.606632</td>\n",
       "    </tr>\n",
       "    <tr>\n",
       "      <th>THEFT_HANDLING</th>\n",
       "      <td>0.430062</td>\n",
       "      <td>0.490875</td>\n",
       "      <td>0.606632</td>\n",
       "      <td>1.000000</td>\n",
       "    </tr>\n",
       "  </tbody>\n",
       "</table>\n",
       "</div>"
      ],
      "text/plain": [
       "                         CRIMINAL_DAMAGE  VIOLENCE_WITH_INJURY  \\\n",
       "CRIMINAL_DAMAGE                 1.000000              0.481797   \n",
       "VIOLENCE_WITH_INJURY            0.481797              1.000000   \n",
       "VIOLENCE_WITHOUT_INJURY         0.588267              0.643024   \n",
       "THEFT_HANDLING                  0.430062              0.490875   \n",
       "\n",
       "                         VIOLENCE_WITHOUT_INJURY  THEFT_HANDLING  \n",
       "CRIMINAL_DAMAGE                         0.588267        0.430062  \n",
       "VIOLENCE_WITH_INJURY                    0.643024        0.490875  \n",
       "VIOLENCE_WITHOUT_INJURY                 1.000000        0.606632  \n",
       "THEFT_HANDLING                          0.606632        1.000000  "
      ]
     },
     "execution_count": 13,
     "metadata": {},
     "output_type": "execute_result"
    }
   ],
   "source": [
    "#The following categories are most correlated \n",
    "rslt_df[['CRIMINAL_DAMAGE', 'VIOLENCE_WITH_INJURY', 'VIOLENCE_WITHOUT_INJURY', 'THEFT_HANDLING']].corr()"
   ]
  },
  {
   "cell_type": "code",
   "execution_count": 57,
   "metadata": {},
   "outputs": [
    {
     "data": {
      "text/plain": [
       "(0, 23.124400588939647)"
      ]
     },
     "execution_count": 57,
     "metadata": {},
     "output_type": "execute_result"
    },
    {
     "data": {
      "image/png": "[encoded data removed]",
      "text/plain": [
       "<Figure size 432x288 with 1 Axes>"
      ]
     },
     "metadata": {
      "needs_background": "light"
     },
     "output_type": "display_data"
    }
   ],
   "source": [
    "# VIOLENCE_WITH_INJURY as potential predictor variable of VIOLENCE_WITH_INJURY\n",
    "sns.regplot(x=\"VIOLENCE_WITHOUT_INJURY\", y=\"VIOLENCE_WITH_INJURY\", data=rslt_df)\n",
    "plt.ylim(0,)"
   ]
  },
  {
   "cell_type": "code",
   "execution_count": 14,
   "metadata": {},
   "outputs": [
    {
     "data": {
      "text/plain": [
       "(0, 23.10367786984647)"
      ]
     },
     "execution_count": 14,
     "metadata": {},
     "output_type": "execute_result"
    },
    {
     "data": {
      "image/png": "[encoded data removed]",
      "text/plain": [
       "<Figure size 432x288 with 1 Axes>"
      ]
     },
     "metadata": {
      "needs_background": "light"
     },
     "output_type": "display_data"
    }
   ],
   "source": [
    "# CRIMINAL_DAMAGE as potential predictor variable of VIOLENCE_WITH_INJURY\n",
    "sns.regplot(x=\"CRIMINAL_DAMAGE\", y=\"VIOLENCE_WITH_INJURY\", data=rslt_df)\n",
    "plt.ylim(0,)"
   ]
  },
  {
   "cell_type": "code",
   "execution_count": 15,
   "metadata": {},
   "outputs": [
    {
     "data": {
      "text/plain": [
       "(0, 23.10367786984647)"
      ]
     },
     "execution_count": 15,
     "metadata": {},
     "output_type": "execute_result"
    },
    {
     "data": {
      "image/png": "[encoded data removed]",
      "text/plain": [
       "<Figure size 432x288 with 1 Axes>"
      ]
     },
     "metadata": {
      "needs_background": "light"
     },
     "output_type": "display_data"
    }
   ],
   "source": [
    "# THEFT_HANDLING as potential predictor variable of VIOLENCE_WITH_INJURY\n",
    "sns.regplot(x=\"THEFT_HANDLING\", y=\"VIOLENCE_WITH_INJURY\", data=rslt_df)\n",
    "plt.ylim(0,)"
   ]
  },
  {
   "cell_type": "markdown",
   "metadata": {},
   "source": [
    "#### Calculating Pearson Correlation and P value\n",
    "The Pearson Correlation measures the linear dependence between two variables X and Y.\n",
    "The P-value is the probability value that the correlation between these two variables is statistically significant.\n",
    "By convention, when the\n",
    "<ul>\n",
    "    <li>p-value is $<$ 0.001: we say there is strong evidence that the correlation is significant.</li>\n",
    "    <li>the p-value is $<$ 0.05: there is moderate evidence that the correlation is significant.</li>\n",
    "    <li>the p-value is $<$ 0.1: there is weak evidence that the correlation is significant.</li>\n",
    "    <li>the p-value is $>$ 0.1: there is no evidence that the correlation is significant.</li>\n",
    "</ul>"
   ]
  },
  {
   "cell_type": "code",
   "execution_count": 16,
   "metadata": {},
   "outputs": [],
   "source": [
    "from scipy import stats"
   ]
  },
  {
   "cell_type": "code",
   "execution_count": 24,
   "metadata": {},
   "outputs": [
    {
     "name": "stdout",
     "output_type": "stream",
     "text": [
      "The Pearson Correlation Coefficient is 0.643024419461235  with a P-value of P = 0.0\n"
     ]
    }
   ],
   "source": [
    "pearson_coef, p_value = stats.pearsonr(rslt_df['VIOLENCE_WITH_INJURY'], rslt_df['VIOLENCE_WITHOUT_INJURY'])\n",
    "print(\"The Pearson Correlation Coefficient is\", pearson_coef, \" with a P-value of P =\", p_value) "
   ]
  },
  {
   "cell_type": "code",
   "execution_count": 18,
   "metadata": {},
   "outputs": [
    {
     "name": "stdout",
     "output_type": "stream",
     "text": [
      "The Pearson Correlation Coefficient is 0.48179690563244726  with a P-value of P = 7.484136799848034e-215\n"
     ]
    }
   ],
   "source": [
    "pearson_coef, p_value = stats.pearsonr(rslt_df['VIOLENCE_WITH_INJURY'], rslt_df['CRIMINAL_DAMAGE'])\n",
    "print(\"The Pearson Correlation Coefficient is\", pearson_coef, \" with a P-value of P =\", p_value) "
   ]
  },
  {
   "cell_type": "code",
   "execution_count": 19,
   "metadata": {},
   "outputs": [
    {
     "name": "stdout",
     "output_type": "stream",
     "text": [
      "The Pearson Correlation Coefficient is 0.49087456253497885  with a P-value of P = 3.621046276480036e-224\n"
     ]
    }
   ],
   "source": [
    "pearson_coef, p_value = stats.pearsonr(rslt_df['VIOLENCE_WITH_INJURY'], rslt_df['THEFT_HANDLING'])\n",
    "print(\"The Pearson Correlation Coefficient is\", pearson_coef, \" with a P-value of P =\", p_value) "
   ]
  },
  {
   "cell_type": "code",
   "execution_count": 22,
   "metadata": {},
   "outputs": [
    {
     "name": "stdout",
     "output_type": "stream",
     "text": [
      "The Pearson Correlation Coefficient is 0.0547001934578298  with a P-value of P = 0.0008614689321216598\n"
     ]
    }
   ],
   "source": [
    "#Check correlation between VEHICLE_INTERFERENCE and VIOLENCE_WITH_INJURY\n",
    "pearson_coef, p_value = stats.pearsonr(rslt_df['VIOLENCE_WITH_INJURY'], rslt_df['VEHICLE_INTERFERENCE'])\n",
    "print(\"The Pearson Correlation Coefficient is\", pearson_coef, \" with a P-value of P =\", p_value) "
   ]
  },
  {
   "cell_type": "markdown",
   "metadata": {},
   "source": [
    "## Applying Multiple Linear Regression model"
   ]
  },
  {
   "cell_type": "markdown",
   "metadata": {},
   "source": [
    "We are going to create a model in order to predict the number of VIOLENCE_WITH_INJURY in different wards using other crime categories,  namely, CRIMINAL_DAMAGE, VIOLENCE_WITHOUT_INJURY, THEFT_HANDLING"
   ]
  },
  {
   "cell_type": "code",
   "execution_count": 60,
   "metadata": {},
   "outputs": [],
   "source": [
    "#load the modules for linear regression\n",
    "from sklearn.linear_model import LinearRegression"
   ]
  },
  {
   "cell_type": "code",
   "execution_count": 61,
   "metadata": {},
   "outputs": [
    {
     "data": {
      "text/plain": [
       "LinearRegression(copy_X=True, fit_intercept=True, n_jobs=None,\n",
       "         normalize=False)"
      ]
     },
     "execution_count": 61,
     "metadata": {},
     "output_type": "execute_result"
    }
   ],
   "source": [
    "#Create the linear regression object\n",
    "lm = LinearRegression()\n",
    "lm"
   ]
  },
  {
   "cell_type": "markdown",
   "metadata": {},
   "source": [
    "### Preparing Training and Testing data"
   ]
  },
  {
   "cell_type": "code",
   "execution_count": 62,
   "metadata": {},
   "outputs": [],
   "source": [
    "y_data = rslt_df['VIOLENCE_WITH_INJURY']"
   ]
  },
  {
   "cell_type": "code",
   "execution_count": 63,
   "metadata": {},
   "outputs": [],
   "source": [
    "x_data=rslt_df.drop('VIOLENCE_WITH_INJURY',axis=1)"
   ]
  },
  {
   "cell_type": "markdown",
   "metadata": {},
   "source": [
    "Now we randomly split our data into training and testing data using the function train_test_split."
   ]
  },
  {
   "cell_type": "code",
   "execution_count": 64,
   "metadata": {},
   "outputs": [
    {
     "name": "stdout",
     "output_type": "stream",
     "text": [
      "number of test samples : 557\n",
      "number of training samples: 3151\n"
     ]
    }
   ],
   "source": [
    "#load the modules for spliting dataset\n",
    "from sklearn.model_selection import train_test_split\n",
    "\n",
    "\n",
    "x_train, x_test, y_train, y_test = train_test_split(x_data, y_data, test_size=0.15, random_state=1)\n",
    "\n",
    "\n",
    "print(\"number of test samples :\", x_test.shape[0])\n",
    "print(\"number of training samples:\",x_train.shape[0])"
   ]
  },
  {
   "cell_type": "code",
   "execution_count": 79,
   "metadata": {},
   "outputs": [
    {
     "data": {
      "text/plain": [
       "LinearRegression(copy_X=True, fit_intercept=True, n_jobs=None,\n",
       "         normalize=False)"
      ]
     },
     "execution_count": 79,
     "metadata": {},
     "output_type": "execute_result"
    }
   ],
   "source": [
    "#train the model with training data\n",
    "lm.fit(x_train[['VIOLENCE_WITHOUT_INJURY', 'CRIMINAL_DAMAGE', 'THEFT_HANDLING']], y_train)"
   ]
  },
  {
   "cell_type": "code",
   "execution_count": 71,
   "metadata": {},
   "outputs": [
    {
     "data": {
      "text/plain": [
       "0.13680852849837732"
      ]
     },
     "execution_count": 71,
     "metadata": {},
     "output_type": "execute_result"
    }
   ],
   "source": [
    "#he value of the intercept\n",
    "lm.intercept_"
   ]
  },
  {
   "cell_type": "code",
   "execution_count": 72,
   "metadata": {},
   "outputs": [
    {
     "data": {
      "text/plain": [
       "array([0.18839764, 0.13469491, 0.04939527])"
      ]
     },
     "execution_count": 72,
     "metadata": {},
     "output_type": "execute_result"
    }
   ],
   "source": [
    "#the values of the coefficients\n",
    "lm.coef_"
   ]
  },
  {
   "cell_type": "code",
   "execution_count": 66,
   "metadata": {},
   "outputs": [
    {
     "data": {
      "text/plain": [
       "array([11.23871141,  0.60377942,  3.72611566,  2.44266804,  3.82952133])"
      ]
     },
     "execution_count": 66,
     "metadata": {},
     "output_type": "execute_result"
    }
   ],
   "source": [
    "#Predict using test data\n",
    "y_hat_test=lm.predict(x_test[['VIOLENCE_WITHOUT_INJURY', 'CRIMINAL_DAMAGE', 'THEFT_HANDLING']])\n",
    "y_hat_test[0:5]"
   ]
  },
  {
   "cell_type": "code",
   "execution_count": 67,
   "metadata": {},
   "outputs": [
    {
     "data": {
      "text/plain": [
       "0.3388407054438053"
      ]
     },
     "execution_count": 67,
     "metadata": {},
     "output_type": "execute_result"
    }
   ],
   "source": [
    "# check the accuracy of the model\n",
    "lm.score(x_test[['VIOLENCE_WITHOUT_INJURY', 'CRIMINAL_DAMAGE', 'THEFT_HANDLING']],y_test)"
   ]
  },
  {
   "cell_type": "markdown",
   "metadata": {},
   "source": [
    "Since the result is not very good I use Cross-validation Score to see if we can get better score. "
   ]
  },
  {
   "cell_type": "markdown",
   "metadata": {},
   "source": [
    "## Cross-validation Score"
   ]
  },
  {
   "cell_type": "code",
   "execution_count": 54,
   "metadata": {},
   "outputs": [],
   "source": [
    "#load required modules\n",
    "from sklearn.model_selection import cross_val_score"
   ]
  },
  {
   "cell_type": "code",
   "execution_count": 68,
   "metadata": {},
   "outputs": [],
   "source": [
    "Rcross = cross_val_score(lm, x_data[['VIOLENCE_WITHOUT_INJURY', 'CRIMINAL_DAMAGE', 'THEFT_HANDLING']], y_data, cv=4)"
   ]
  },
  {
   "cell_type": "code",
   "execution_count": 69,
   "metadata": {},
   "outputs": [
    {
     "data": {
      "text/plain": [
       "array([0.46733964, 0.4756078 , 0.39417028, 0.42999745])"
      ]
     },
     "execution_count": 69,
     "metadata": {},
     "output_type": "execute_result"
    }
   ],
   "source": [
    "Rcross"
   ]
  },
  {
   "cell_type": "code",
   "execution_count": 70,
   "metadata": {},
   "outputs": [
    {
     "name": "stdout",
     "output_type": "stream",
     "text": [
      "The mean of the folds are 0.44177879533070186 and the standard deviation is 0.03241577359302499\n"
     ]
    }
   ],
   "source": [
    "print(\"The mean of the folds are\", Rcross.mean(), \"and the standard deviation is\" , Rcross.std())"
   ]
  },
  {
   "cell_type": "markdown",
   "metadata": {},
   "source": [
    "## Model Evaluation using Visualisation"
   ]
  },
  {
   "cell_type": "code",
   "execution_count": 73,
   "metadata": {},
   "outputs": [],
   "source": [
    "Y_hat = lm.predict(x_data[['VIOLENCE_WITHOUT_INJURY', 'CRIMINAL_DAMAGE', 'THEFT_HANDLING']])"
   ]
  },
  {
   "cell_type": "code",
   "execution_count": 74,
   "metadata": {},
   "outputs": [
    {
     "data": {
      "image/png": "[encoded data removed]",
      "text/plain": [
       "<Figure size 864x720 with 1 Axes>"
      ]
     },
     "metadata": {
      "needs_background": "light"
     },
     "output_type": "display_data"
    }
   ],
   "source": [
    "width=12\n",
    "height=10\n",
    "plt.figure(figsize=(width, height))\n",
    "\n",
    "\n",
    "ax1 = sns.distplot(rslt_df['VIOLENCE_WITH_INJURY'], hist=False, color=\"r\", label=\"Actual Value\")\n",
    "sns.distplot(Y_hat, hist=False, color=\"b\", label=\"Fitted Values\" , ax=ax1)\n",
    "\n",
    "\n",
    "plt.title('Actual vs Fitted Values for VIOLENCE_WITH_INJURY')\n",
    "plt.xlabel('VIOLENCE_WITH_INJURY')\n",
    "plt.ylabel('Proportion of Crime')\n",
    "\n",
    "plt.show()\n",
    "plt.close()"
   ]
  },
  {
   "cell_type": "markdown",
   "metadata": {},
   "source": [
    "The fitted values are reasonably close to the actual values, since the two distributions overlap a bit. However, there is definitely some room for improvement."
   ]
  },
  {
   "cell_type": "code",
   "execution_count": 76,
   "metadata": {},
   "outputs": [],
   "source": [
    "from sklearn.metrics import mean_squared_error"
   ]
  },
  {
   "cell_type": "code",
   "execution_count": 77,
   "metadata": {},
   "outputs": [
    {
     "name": "stdout",
     "output_type": "stream",
     "text": [
      "The R-square is:  0.44200442288096314\n"
     ]
    }
   ],
   "source": [
    "print('The R-square is: ', lm.score(predictor_var, rslt_df['VIOLENCE_WITH_INJURY']))"
   ]
  },
  {
   "cell_type": "code",
   "execution_count": 78,
   "metadata": {},
   "outputs": [
    {
     "name": "stdout",
     "output_type": "stream",
     "text": [
      "The mean square error of VIOLENCE_WITH_INJURY and predicted value using multifit is:  3.428344832918767\n"
     ]
    }
   ],
   "source": [
    "print('The mean square error of VIOLENCE_WITH_INJURY and predicted value using multifit is: ', \\\n",
    "      mean_squared_error(rslt_df['VIOLENCE_WITH_INJURY'], Y_hat))"
   ]
  }
 ],
 "metadata": {
  "kernelspec": {
   "display_name": "Python",
   "language": "python",
   "name": "conda-env-python-py"
  },
  "language_info": {
   "codemirror_mode": {
    "name": "ipython",
    "version": 3
   },
   "file_extension": ".py",
   "mimetype": "text/x-python",
   "name": "python",
   "nbconvert_exporter": "python",
   "pygments_lexer": "ipython3",
   "version": "3.6.7"
  }
 },
 "nbformat": 4,
 "nbformat_minor": 4
}
